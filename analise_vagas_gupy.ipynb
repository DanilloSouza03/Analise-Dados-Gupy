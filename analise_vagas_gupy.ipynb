{
 "cells": [
  {
   "cell_type": "markdown",
   "metadata": {},
   "source": [
    "# Desafio - Vaga de Estágio Driva\n",
    "\n",
    "**Objetivo:** <br>\n",
    "Fazer um web scraping do máximo de vagas de emprego abertas que você conseguir no site https://portal.gupy.io/ e fazer uma análise sobre os dados.\n",
    "\n",
    "Autor: *Danillo de Souza Pereira* <br>\n",
    "LinkedIn: https://www.linkedin.com/in/danillosouza03/"
   ]
  },
  {
   "cell_type": "code",
   "execution_count": 1,
   "metadata": {},
   "outputs": [],
   "source": [
    "# Importando bibliotecas \n",
    "import pandas as pd \n",
    "from unidecode import unidecode\n",
    "import matplotlib.pyplot as plt"
   ]
  },
  {
   "cell_type": "code",
   "execution_count": 2,
   "metadata": {
    "scrolled": true
   },
   "outputs": [
    {
     "data": {
      "text/html": [
       "<div>\n",
       "<style scoped>\n",
       "    .dataframe tbody tr th:only-of-type {\n",
       "        vertical-align: middle;\n",
       "    }\n",
       "\n",
       "    .dataframe tbody tr th {\n",
       "        vertical-align: top;\n",
       "    }\n",
       "\n",
       "    .dataframe thead th {\n",
       "        text-align: right;\n",
       "    }\n",
       "</style>\n",
       "<table border=\"1\" class=\"dataframe\">\n",
       "  <thead>\n",
       "    <tr style=\"text-align: right;\">\n",
       "      <th></th>\n",
       "      <th>empresa</th>\n",
       "      <th>cargo</th>\n",
       "      <th>localizacao</th>\n",
       "      <th>modalidade</th>\n",
       "      <th>contrato</th>\n",
       "      <th>pcd</th>\n",
       "      <th>data</th>\n",
       "    </tr>\n",
       "  </thead>\n",
       "  <tbody>\n",
       "    <tr>\n",
       "      <th>0</th>\n",
       "      <td>Imagem Geosistemas</td>\n",
       "      <td>1349 - Analista de Dados Júnior</td>\n",
       "      <td>Sao Jose d... - SP</td>\n",
       "      <td>Presencial</td>\n",
       "      <td>Efetivo</td>\n",
       "      <td>Também p/ PcD</td>\n",
       "      <td>28/08/2023</td>\n",
       "    </tr>\n",
       "    <tr>\n",
       "      <th>1</th>\n",
       "      <td>Verdegreen Hotel</td>\n",
       "      <td>Banco de Dados - Unipê</td>\n",
       "      <td>João Pessoa - PB</td>\n",
       "      <td>Presencial</td>\n",
       "      <td>Banco de Talentos</td>\n",
       "      <td>Também p/ PcD</td>\n",
       "      <td>25/08/2023</td>\n",
       "    </tr>\n",
       "    <tr>\n",
       "      <th>2</th>\n",
       "      <td>Grupo Boticário</td>\n",
       "      <td>Analista ll – Dados e insights (Afirmativa par...</td>\n",
       "      <td>Sao Jose d... - PR</td>\n",
       "      <td>Presencial</td>\n",
       "      <td>Temporário</td>\n",
       "      <td>Não informado</td>\n",
       "      <td>25/08/2023</td>\n",
       "    </tr>\n",
       "    <tr>\n",
       "      <th>3</th>\n",
       "      <td>Central IT</td>\n",
       "      <td>ADMINISTRADOR DE BANCO DE DADOS SÊNIOR</td>\n",
       "      <td>Não informado</td>\n",
       "      <td>Presencial</td>\n",
       "      <td>Efetivo</td>\n",
       "      <td>Também p/ PcD</td>\n",
       "      <td>25/08/2023</td>\n",
       "    </tr>\n",
       "    <tr>\n",
       "      <th>4</th>\n",
       "      <td>GVC SOLUÇÕES EM COBRANÇA</td>\n",
       "      <td>ANALISTA DE DADOS</td>\n",
       "      <td>São José d... - SP</td>\n",
       "      <td>Presencial</td>\n",
       "      <td>Efetivo</td>\n",
       "      <td>Também p/ PcD</td>\n",
       "      <td>25/08/2023</td>\n",
       "    </tr>\n",
       "    <tr>\n",
       "      <th>...</th>\n",
       "      <td>...</td>\n",
       "      <td>...</td>\n",
       "      <td>...</td>\n",
       "      <td>...</td>\n",
       "      <td>...</td>\n",
       "      <td>...</td>\n",
       "      <td>...</td>\n",
       "    </tr>\n",
       "    <tr>\n",
       "      <th>582</th>\n",
       "      <td>Qexpert</td>\n",
       "      <td>Banco de Talentos Cientista de Dados</td>\n",
       "      <td>Curitiba - PR</td>\n",
       "      <td>Remoto</td>\n",
       "      <td>Banco de Talentos</td>\n",
       "      <td>Também p/ PcD</td>\n",
       "      <td>18/03/2021</td>\n",
       "    </tr>\n",
       "    <tr>\n",
       "      <th>583</th>\n",
       "      <td>Sicredi</td>\n",
       "      <td>Banco de Dados Jovem Aprendiz - Dracena/SP</td>\n",
       "      <td>Dracena - SP</td>\n",
       "      <td>Presencial</td>\n",
       "      <td>Banco de Talentos</td>\n",
       "      <td>Também p/ PcD</td>\n",
       "      <td>11/03/2021</td>\n",
       "    </tr>\n",
       "    <tr>\n",
       "      <th>584</th>\n",
       "      <td>Nestlé</td>\n",
       "      <td>Engenheiro(a) de Dados</td>\n",
       "      <td>São Paulo - SP</td>\n",
       "      <td>Presencial</td>\n",
       "      <td>Efetivo</td>\n",
       "      <td>Também p/ PcD</td>\n",
       "      <td>01/03/2021</td>\n",
       "    </tr>\n",
       "    <tr>\n",
       "      <th>585</th>\n",
       "      <td>Qualidados</td>\n",
       "      <td>Não encontrou uma vaga com seu perfil? Cadastr...</td>\n",
       "      <td>Não informado</td>\n",
       "      <td>Presencial</td>\n",
       "      <td>Banco de Talentos</td>\n",
       "      <td>Também p/ PcD</td>\n",
       "      <td>29/05/2020</td>\n",
       "    </tr>\n",
       "    <tr>\n",
       "      <th>586</th>\n",
       "      <td>Log-In Logística Intermodal</td>\n",
       "      <td>Especialista em Análise de Dados - VAGA BANCO</td>\n",
       "      <td>Rio de Jan... - RJ</td>\n",
       "      <td>Presencial</td>\n",
       "      <td>Banco de Talentos</td>\n",
       "      <td>Não informado</td>\n",
       "      <td>31/03/2020</td>\n",
       "    </tr>\n",
       "  </tbody>\n",
       "</table>\n",
       "<p>587 rows × 7 columns</p>\n",
       "</div>"
      ],
      "text/plain": [
       "                         empresa  \\\n",
       "0             Imagem Geosistemas   \n",
       "1               Verdegreen Hotel   \n",
       "2                Grupo Boticário   \n",
       "3                     Central IT   \n",
       "4       GVC SOLUÇÕES EM COBRANÇA   \n",
       "..                           ...   \n",
       "582                     Qexpert    \n",
       "583                      Sicredi   \n",
       "584                       Nestlé   \n",
       "585                   Qualidados   \n",
       "586  Log-In Logística Intermodal   \n",
       "\n",
       "                                                 cargo         localizacao  \\\n",
       "0                      1349 - Analista de Dados Júnior  Sao Jose d... - SP   \n",
       "1                               Banco de Dados - Unipê    João Pessoa - PB   \n",
       "2    Analista ll – Dados e insights (Afirmativa par...  Sao Jose d... - PR   \n",
       "3               ADMINISTRADOR DE BANCO DE DADOS SÊNIOR       Não informado   \n",
       "4                                    ANALISTA DE DADOS  São José d... - SP   \n",
       "..                                                 ...                 ...   \n",
       "582               Banco de Talentos Cientista de Dados       Curitiba - PR   \n",
       "583         Banco de Dados Jovem Aprendiz - Dracena/SP        Dracena - SP   \n",
       "584                             Engenheiro(a) de Dados      São Paulo - SP   \n",
       "585  Não encontrou uma vaga com seu perfil? Cadastr...       Não informado   \n",
       "586      Especialista em Análise de Dados - VAGA BANCO  Rio de Jan... - RJ   \n",
       "\n",
       "     modalidade           contrato            pcd        data  \n",
       "0    Presencial            Efetivo  Também p/ PcD  28/08/2023  \n",
       "1    Presencial  Banco de Talentos  Também p/ PcD  25/08/2023  \n",
       "2    Presencial         Temporário  Não informado  25/08/2023  \n",
       "3    Presencial            Efetivo  Também p/ PcD  25/08/2023  \n",
       "4    Presencial            Efetivo  Também p/ PcD  25/08/2023  \n",
       "..          ...                ...            ...         ...  \n",
       "582      Remoto  Banco de Talentos  Também p/ PcD  18/03/2021  \n",
       "583  Presencial  Banco de Talentos  Também p/ PcD  11/03/2021  \n",
       "584  Presencial            Efetivo  Também p/ PcD  01/03/2021  \n",
       "585  Presencial  Banco de Talentos  Também p/ PcD  29/05/2020  \n",
       "586  Presencial  Banco de Talentos  Não informado  31/03/2020  \n",
       "\n",
       "[587 rows x 7 columns]"
      ]
     },
     "execution_count": 2,
     "metadata": {},
     "output_type": "execute_result"
    }
   ],
   "source": [
    "# Lendo e vendo as 5 primeiras e últimas linhas\n",
    "df = pd.read_csv('base_dados_vagas.csv', encoding='utf-8', sep=';')\n",
    "df"
   ]
  },
  {
   "cell_type": "code",
   "execution_count": 3,
   "metadata": {},
   "outputs": [
    {
     "data": {
      "text/html": [
       "<div>\n",
       "<style scoped>\n",
       "    .dataframe tbody tr th:only-of-type {\n",
       "        vertical-align: middle;\n",
       "    }\n",
       "\n",
       "    .dataframe tbody tr th {\n",
       "        vertical-align: top;\n",
       "    }\n",
       "\n",
       "    .dataframe thead th {\n",
       "        text-align: right;\n",
       "    }\n",
       "</style>\n",
       "<table border=\"1\" class=\"dataframe\">\n",
       "  <thead>\n",
       "    <tr style=\"text-align: right;\">\n",
       "      <th></th>\n",
       "      <th>empresa</th>\n",
       "      <th>cargo</th>\n",
       "      <th>modalidade</th>\n",
       "      <th>contrato</th>\n",
       "      <th>pcd</th>\n",
       "      <th>data</th>\n",
       "      <th>cidade</th>\n",
       "      <th>estado</th>\n",
       "    </tr>\n",
       "  </thead>\n",
       "  <tbody>\n",
       "    <tr>\n",
       "      <th>0</th>\n",
       "      <td>Imagem Geosistemas</td>\n",
       "      <td>1349 - Analista de Dados Júnior</td>\n",
       "      <td>Presencial</td>\n",
       "      <td>Efetivo</td>\n",
       "      <td>Também p/ PcD</td>\n",
       "      <td>28/08/2023</td>\n",
       "      <td>Sao Jose d...</td>\n",
       "      <td>SP</td>\n",
       "    </tr>\n",
       "    <tr>\n",
       "      <th>1</th>\n",
       "      <td>Verdegreen Hotel</td>\n",
       "      <td>Banco de Dados - Unipê</td>\n",
       "      <td>Presencial</td>\n",
       "      <td>Banco de Talentos</td>\n",
       "      <td>Também p/ PcD</td>\n",
       "      <td>25/08/2023</td>\n",
       "      <td>João Pessoa</td>\n",
       "      <td>PB</td>\n",
       "    </tr>\n",
       "    <tr>\n",
       "      <th>2</th>\n",
       "      <td>Grupo Boticário</td>\n",
       "      <td>Analista ll – Dados e insights (Afirmativa par...</td>\n",
       "      <td>Presencial</td>\n",
       "      <td>Temporário</td>\n",
       "      <td>Não informado</td>\n",
       "      <td>25/08/2023</td>\n",
       "      <td>Sao Jose d...</td>\n",
       "      <td>PR</td>\n",
       "    </tr>\n",
       "    <tr>\n",
       "      <th>3</th>\n",
       "      <td>Central IT</td>\n",
       "      <td>ADMINISTRADOR DE BANCO DE DADOS SÊNIOR</td>\n",
       "      <td>Presencial</td>\n",
       "      <td>Efetivo</td>\n",
       "      <td>Também p/ PcD</td>\n",
       "      <td>25/08/2023</td>\n",
       "      <td>Não informado</td>\n",
       "      <td>None</td>\n",
       "    </tr>\n",
       "    <tr>\n",
       "      <th>4</th>\n",
       "      <td>GVC SOLUÇÕES EM COBRANÇA</td>\n",
       "      <td>ANALISTA DE DADOS</td>\n",
       "      <td>Presencial</td>\n",
       "      <td>Efetivo</td>\n",
       "      <td>Também p/ PcD</td>\n",
       "      <td>25/08/2023</td>\n",
       "      <td>São José d...</td>\n",
       "      <td>SP</td>\n",
       "    </tr>\n",
       "    <tr>\n",
       "      <th>...</th>\n",
       "      <td>...</td>\n",
       "      <td>...</td>\n",
       "      <td>...</td>\n",
       "      <td>...</td>\n",
       "      <td>...</td>\n",
       "      <td>...</td>\n",
       "      <td>...</td>\n",
       "      <td>...</td>\n",
       "    </tr>\n",
       "    <tr>\n",
       "      <th>582</th>\n",
       "      <td>Qexpert</td>\n",
       "      <td>Banco de Talentos Cientista de Dados</td>\n",
       "      <td>Remoto</td>\n",
       "      <td>Banco de Talentos</td>\n",
       "      <td>Também p/ PcD</td>\n",
       "      <td>18/03/2021</td>\n",
       "      <td>Curitiba</td>\n",
       "      <td>PR</td>\n",
       "    </tr>\n",
       "    <tr>\n",
       "      <th>583</th>\n",
       "      <td>Sicredi</td>\n",
       "      <td>Banco de Dados Jovem Aprendiz - Dracena/SP</td>\n",
       "      <td>Presencial</td>\n",
       "      <td>Banco de Talentos</td>\n",
       "      <td>Também p/ PcD</td>\n",
       "      <td>11/03/2021</td>\n",
       "      <td>Dracena</td>\n",
       "      <td>SP</td>\n",
       "    </tr>\n",
       "    <tr>\n",
       "      <th>584</th>\n",
       "      <td>Nestlé</td>\n",
       "      <td>Engenheiro(a) de Dados</td>\n",
       "      <td>Presencial</td>\n",
       "      <td>Efetivo</td>\n",
       "      <td>Também p/ PcD</td>\n",
       "      <td>01/03/2021</td>\n",
       "      <td>São Paulo</td>\n",
       "      <td>SP</td>\n",
       "    </tr>\n",
       "    <tr>\n",
       "      <th>585</th>\n",
       "      <td>Qualidados</td>\n",
       "      <td>Não encontrou uma vaga com seu perfil? Cadastr...</td>\n",
       "      <td>Presencial</td>\n",
       "      <td>Banco de Talentos</td>\n",
       "      <td>Também p/ PcD</td>\n",
       "      <td>29/05/2020</td>\n",
       "      <td>Não informado</td>\n",
       "      <td>None</td>\n",
       "    </tr>\n",
       "    <tr>\n",
       "      <th>586</th>\n",
       "      <td>Log-In Logística Intermodal</td>\n",
       "      <td>Especialista em Análise de Dados - VAGA BANCO</td>\n",
       "      <td>Presencial</td>\n",
       "      <td>Banco de Talentos</td>\n",
       "      <td>Não informado</td>\n",
       "      <td>31/03/2020</td>\n",
       "      <td>Rio de Jan...</td>\n",
       "      <td>RJ</td>\n",
       "    </tr>\n",
       "  </tbody>\n",
       "</table>\n",
       "<p>587 rows × 8 columns</p>\n",
       "</div>"
      ],
      "text/plain": [
       "                         empresa  \\\n",
       "0             Imagem Geosistemas   \n",
       "1               Verdegreen Hotel   \n",
       "2                Grupo Boticário   \n",
       "3                     Central IT   \n",
       "4       GVC SOLUÇÕES EM COBRANÇA   \n",
       "..                           ...   \n",
       "582                     Qexpert    \n",
       "583                      Sicredi   \n",
       "584                       Nestlé   \n",
       "585                   Qualidados   \n",
       "586  Log-In Logística Intermodal   \n",
       "\n",
       "                                                 cargo  modalidade  \\\n",
       "0                      1349 - Analista de Dados Júnior  Presencial   \n",
       "1                               Banco de Dados - Unipê  Presencial   \n",
       "2    Analista ll – Dados e insights (Afirmativa par...  Presencial   \n",
       "3               ADMINISTRADOR DE BANCO DE DADOS SÊNIOR  Presencial   \n",
       "4                                    ANALISTA DE DADOS  Presencial   \n",
       "..                                                 ...         ...   \n",
       "582               Banco de Talentos Cientista de Dados      Remoto   \n",
       "583         Banco de Dados Jovem Aprendiz - Dracena/SP  Presencial   \n",
       "584                             Engenheiro(a) de Dados  Presencial   \n",
       "585  Não encontrou uma vaga com seu perfil? Cadastr...  Presencial   \n",
       "586      Especialista em Análise de Dados - VAGA BANCO  Presencial   \n",
       "\n",
       "              contrato            pcd        data         cidade estado  \n",
       "0              Efetivo  Também p/ PcD  28/08/2023  Sao Jose d...     SP  \n",
       "1    Banco de Talentos  Também p/ PcD  25/08/2023    João Pessoa     PB  \n",
       "2           Temporário  Não informado  25/08/2023  Sao Jose d...     PR  \n",
       "3              Efetivo  Também p/ PcD  25/08/2023  Não informado   None  \n",
       "4              Efetivo  Também p/ PcD  25/08/2023  São José d...     SP  \n",
       "..                 ...            ...         ...            ...    ...  \n",
       "582  Banco de Talentos  Também p/ PcD  18/03/2021       Curitiba     PR  \n",
       "583  Banco de Talentos  Também p/ PcD  11/03/2021        Dracena     SP  \n",
       "584            Efetivo  Também p/ PcD  01/03/2021      São Paulo     SP  \n",
       "585  Banco de Talentos  Também p/ PcD  29/05/2020  Não informado   None  \n",
       "586  Banco de Talentos  Não informado  31/03/2020  Rio de Jan...     RJ  \n",
       "\n",
       "[587 rows x 8 columns]"
      ]
     },
     "execution_count": 3,
     "metadata": {},
     "output_type": "execute_result"
    }
   ],
   "source": [
    "# Separando cidade e estado para melhorar a análise\n",
    "df[['cidade', 'estado']] = df['localizacao'].str.split(' - ', expand=True)\n",
    "\n",
    "# Apagando localização completa\n",
    "df.drop(columns=['localizacao'], inplace=True)\n",
    "df"
   ]
  },
  {
   "cell_type": "code",
   "execution_count": 4,
   "metadata": {
    "scrolled": true
   },
   "outputs": [
    {
     "name": "stdout",
     "output_type": "stream",
     "text": [
      "<class 'pandas.core.frame.DataFrame'>\n",
      "RangeIndex: 587 entries, 0 to 586\n",
      "Data columns (total 8 columns):\n",
      " #   Column      Non-Null Count  Dtype \n",
      "---  ------      --------------  ----- \n",
      " 0   empresa     587 non-null    object\n",
      " 1   cargo       587 non-null    object\n",
      " 2   modalidade  587 non-null    object\n",
      " 3   contrato    587 non-null    object\n",
      " 4   pcd         587 non-null    object\n",
      " 5   data        587 non-null    object\n",
      " 6   cidade      587 non-null    object\n",
      " 7   estado      526 non-null    object\n",
      "dtypes: object(8)\n",
      "memory usage: 36.8+ KB\n"
     ]
    }
   ],
   "source": [
    "# observando os tipos de dados e se tem dados faltantes\n",
    "df.info() "
   ]
  },
  {
   "cell_type": "code",
   "execution_count": 5,
   "metadata": {},
   "outputs": [
    {
     "data": {
      "text/html": [
       "<div>\n",
       "<style scoped>\n",
       "    .dataframe tbody tr th:only-of-type {\n",
       "        vertical-align: middle;\n",
       "    }\n",
       "\n",
       "    .dataframe tbody tr th {\n",
       "        vertical-align: top;\n",
       "    }\n",
       "\n",
       "    .dataframe thead th {\n",
       "        text-align: right;\n",
       "    }\n",
       "</style>\n",
       "<table border=\"1\" class=\"dataframe\">\n",
       "  <thead>\n",
       "    <tr style=\"text-align: right;\">\n",
       "      <th></th>\n",
       "      <th>empresa</th>\n",
       "      <th>cargo</th>\n",
       "      <th>modalidade</th>\n",
       "      <th>contrato</th>\n",
       "      <th>pcd</th>\n",
       "      <th>data</th>\n",
       "      <th>cidade</th>\n",
       "      <th>estado</th>\n",
       "    </tr>\n",
       "  </thead>\n",
       "  <tbody>\n",
       "    <tr>\n",
       "      <th>0</th>\n",
       "      <td>Imagem Geosistemas</td>\n",
       "      <td>1349 - Analista De Dados Junior</td>\n",
       "      <td>Presencial</td>\n",
       "      <td>Efetivo</td>\n",
       "      <td>Também p/ PcD</td>\n",
       "      <td>28/08/2023</td>\n",
       "      <td>Sao Jose D...</td>\n",
       "      <td>SP</td>\n",
       "    </tr>\n",
       "    <tr>\n",
       "      <th>1</th>\n",
       "      <td>Verdegreen Hotel</td>\n",
       "      <td>Banco De Dados - Unipe</td>\n",
       "      <td>Presencial</td>\n",
       "      <td>Banco de Talentos</td>\n",
       "      <td>Também p/ PcD</td>\n",
       "      <td>25/08/2023</td>\n",
       "      <td>Joao Pessoa</td>\n",
       "      <td>PB</td>\n",
       "    </tr>\n",
       "    <tr>\n",
       "      <th>2</th>\n",
       "      <td>Grupo Boticário</td>\n",
       "      <td>Analista Ll - Dados E Insights (Afirmativa Par...</td>\n",
       "      <td>Presencial</td>\n",
       "      <td>Temporário</td>\n",
       "      <td>Não informado</td>\n",
       "      <td>25/08/2023</td>\n",
       "      <td>Sao Jose D...</td>\n",
       "      <td>PR</td>\n",
       "    </tr>\n",
       "    <tr>\n",
       "      <th>3</th>\n",
       "      <td>Central IT</td>\n",
       "      <td>Administrador De Banco De Dados Senior</td>\n",
       "      <td>Presencial</td>\n",
       "      <td>Efetivo</td>\n",
       "      <td>Também p/ PcD</td>\n",
       "      <td>25/08/2023</td>\n",
       "      <td>Nao Informado</td>\n",
       "      <td>None</td>\n",
       "    </tr>\n",
       "    <tr>\n",
       "      <th>4</th>\n",
       "      <td>GVC SOLUÇÕES EM COBRANÇA</td>\n",
       "      <td>Analista De Dados</td>\n",
       "      <td>Presencial</td>\n",
       "      <td>Efetivo</td>\n",
       "      <td>Também p/ PcD</td>\n",
       "      <td>25/08/2023</td>\n",
       "      <td>Sao Jose D...</td>\n",
       "      <td>SP</td>\n",
       "    </tr>\n",
       "    <tr>\n",
       "      <th>...</th>\n",
       "      <td>...</td>\n",
       "      <td>...</td>\n",
       "      <td>...</td>\n",
       "      <td>...</td>\n",
       "      <td>...</td>\n",
       "      <td>...</td>\n",
       "      <td>...</td>\n",
       "      <td>...</td>\n",
       "    </tr>\n",
       "    <tr>\n",
       "      <th>582</th>\n",
       "      <td>Qexpert</td>\n",
       "      <td>Banco De Talentos Cientista De Dados</td>\n",
       "      <td>Remoto</td>\n",
       "      <td>Banco de Talentos</td>\n",
       "      <td>Também p/ PcD</td>\n",
       "      <td>18/03/2021</td>\n",
       "      <td>Curitiba</td>\n",
       "      <td>PR</td>\n",
       "    </tr>\n",
       "    <tr>\n",
       "      <th>583</th>\n",
       "      <td>Sicredi</td>\n",
       "      <td>Banco De Dados Jovem Aprendiz - Dracena/Sp</td>\n",
       "      <td>Presencial</td>\n",
       "      <td>Banco de Talentos</td>\n",
       "      <td>Também p/ PcD</td>\n",
       "      <td>11/03/2021</td>\n",
       "      <td>Dracena</td>\n",
       "      <td>SP</td>\n",
       "    </tr>\n",
       "    <tr>\n",
       "      <th>584</th>\n",
       "      <td>Nestlé</td>\n",
       "      <td>Engenheiro(A) De Dados</td>\n",
       "      <td>Presencial</td>\n",
       "      <td>Efetivo</td>\n",
       "      <td>Também p/ PcD</td>\n",
       "      <td>01/03/2021</td>\n",
       "      <td>Sao Paulo</td>\n",
       "      <td>SP</td>\n",
       "    </tr>\n",
       "    <tr>\n",
       "      <th>585</th>\n",
       "      <td>Qualidados</td>\n",
       "      <td>Nao Encontrou Uma Vaga Com Seu Perfil? Cadastr...</td>\n",
       "      <td>Presencial</td>\n",
       "      <td>Banco de Talentos</td>\n",
       "      <td>Também p/ PcD</td>\n",
       "      <td>29/05/2020</td>\n",
       "      <td>Nao Informado</td>\n",
       "      <td>None</td>\n",
       "    </tr>\n",
       "    <tr>\n",
       "      <th>586</th>\n",
       "      <td>Log-In Logística Intermodal</td>\n",
       "      <td>Especialista Em Analise De Dados - Vaga Banco</td>\n",
       "      <td>Presencial</td>\n",
       "      <td>Banco de Talentos</td>\n",
       "      <td>Não informado</td>\n",
       "      <td>31/03/2020</td>\n",
       "      <td>Rio De Jan...</td>\n",
       "      <td>RJ</td>\n",
       "    </tr>\n",
       "  </tbody>\n",
       "</table>\n",
       "<p>587 rows × 8 columns</p>\n",
       "</div>"
      ],
      "text/plain": [
       "                         empresa  \\\n",
       "0             Imagem Geosistemas   \n",
       "1               Verdegreen Hotel   \n",
       "2                Grupo Boticário   \n",
       "3                     Central IT   \n",
       "4       GVC SOLUÇÕES EM COBRANÇA   \n",
       "..                           ...   \n",
       "582                     Qexpert    \n",
       "583                      Sicredi   \n",
       "584                       Nestlé   \n",
       "585                   Qualidados   \n",
       "586  Log-In Logística Intermodal   \n",
       "\n",
       "                                                 cargo  modalidade  \\\n",
       "0                      1349 - Analista De Dados Junior  Presencial   \n",
       "1                               Banco De Dados - Unipe  Presencial   \n",
       "2    Analista Ll - Dados E Insights (Afirmativa Par...  Presencial   \n",
       "3               Administrador De Banco De Dados Senior  Presencial   \n",
       "4                                    Analista De Dados  Presencial   \n",
       "..                                                 ...         ...   \n",
       "582               Banco De Talentos Cientista De Dados      Remoto   \n",
       "583         Banco De Dados Jovem Aprendiz - Dracena/Sp  Presencial   \n",
       "584                             Engenheiro(A) De Dados  Presencial   \n",
       "585  Nao Encontrou Uma Vaga Com Seu Perfil? Cadastr...  Presencial   \n",
       "586      Especialista Em Analise De Dados - Vaga Banco  Presencial   \n",
       "\n",
       "              contrato            pcd        data         cidade estado  \n",
       "0              Efetivo  Também p/ PcD  28/08/2023  Sao Jose D...     SP  \n",
       "1    Banco de Talentos  Também p/ PcD  25/08/2023    Joao Pessoa     PB  \n",
       "2           Temporário  Não informado  25/08/2023  Sao Jose D...     PR  \n",
       "3              Efetivo  Também p/ PcD  25/08/2023  Nao Informado   None  \n",
       "4              Efetivo  Também p/ PcD  25/08/2023  Sao Jose D...     SP  \n",
       "..                 ...            ...         ...            ...    ...  \n",
       "582  Banco de Talentos  Também p/ PcD  18/03/2021       Curitiba     PR  \n",
       "583  Banco de Talentos  Também p/ PcD  11/03/2021        Dracena     SP  \n",
       "584            Efetivo  Também p/ PcD  01/03/2021      Sao Paulo     SP  \n",
       "585  Banco de Talentos  Também p/ PcD  29/05/2020  Nao Informado   None  \n",
       "586  Banco de Talentos  Não informado  31/03/2020  Rio De Jan...     RJ  \n",
       "\n",
       "[587 rows x 8 columns]"
      ]
     },
     "execution_count": 5,
     "metadata": {},
     "output_type": "execute_result"
    }
   ],
   "source": [
    "# Tirando acentos e padranizando caixa de texto \n",
    "def remove_acentos(cidade):\n",
    "    return unidecode(cidade).title()\n",
    "\n",
    "df['cidade'] = df['cidade'].apply(remove_acentos)\n",
    "df['cargo'] = df['cargo'].apply(remove_acentos)\n",
    "df"
   ]
  },
  {
   "cell_type": "code",
   "execution_count": 6,
   "metadata": {
    "scrolled": true
   },
   "outputs": [
    {
     "data": {
      "text/html": [
       "<div>\n",
       "<style scoped>\n",
       "    .dataframe tbody tr th:only-of-type {\n",
       "        vertical-align: middle;\n",
       "    }\n",
       "\n",
       "    .dataframe tbody tr th {\n",
       "        vertical-align: top;\n",
       "    }\n",
       "\n",
       "    .dataframe thead th {\n",
       "        text-align: right;\n",
       "    }\n",
       "</style>\n",
       "<table border=\"1\" class=\"dataframe\">\n",
       "  <thead>\n",
       "    <tr style=\"text-align: right;\">\n",
       "      <th></th>\n",
       "      <th>empresa</th>\n",
       "      <th>cargo</th>\n",
       "      <th>modalidade</th>\n",
       "      <th>contrato</th>\n",
       "      <th>pcd</th>\n",
       "      <th>data</th>\n",
       "      <th>cidade</th>\n",
       "      <th>estado</th>\n",
       "    </tr>\n",
       "  </thead>\n",
       "  <tbody>\n",
       "    <tr>\n",
       "      <th>count</th>\n",
       "      <td>587</td>\n",
       "      <td>587</td>\n",
       "      <td>587</td>\n",
       "      <td>587</td>\n",
       "      <td>587</td>\n",
       "      <td>587</td>\n",
       "      <td>587</td>\n",
       "      <td>526</td>\n",
       "    </tr>\n",
       "    <tr>\n",
       "      <th>unique</th>\n",
       "      <td>307</td>\n",
       "      <td>482</td>\n",
       "      <td>2</td>\n",
       "      <td>9</td>\n",
       "      <td>2</td>\n",
       "      <td>155</td>\n",
       "      <td>71</td>\n",
       "      <td>20</td>\n",
       "    </tr>\n",
       "    <tr>\n",
       "      <th>top</th>\n",
       "      <td>Itaú Unibanco</td>\n",
       "      <td>Analista De Dados</td>\n",
       "      <td>Presencial</td>\n",
       "      <td>Efetivo</td>\n",
       "      <td>Também p/ PcD</td>\n",
       "      <td>18/08/2023</td>\n",
       "      <td>Sao Paulo</td>\n",
       "      <td>SP</td>\n",
       "    </tr>\n",
       "    <tr>\n",
       "      <th>freq</th>\n",
       "      <td>22</td>\n",
       "      <td>18</td>\n",
       "      <td>398</td>\n",
       "      <td>461</td>\n",
       "      <td>454</td>\n",
       "      <td>21</td>\n",
       "      <td>215</td>\n",
       "      <td>288</td>\n",
       "    </tr>\n",
       "  </tbody>\n",
       "</table>\n",
       "</div>"
      ],
      "text/plain": [
       "              empresa              cargo  modalidade contrato            pcd  \\\n",
       "count             587                587         587      587            587   \n",
       "unique            307                482           2        9              2   \n",
       "top     Itaú Unibanco  Analista De Dados  Presencial  Efetivo  Também p/ PcD   \n",
       "freq               22                 18         398      461            454   \n",
       "\n",
       "              data     cidade estado  \n",
       "count          587        587    526  \n",
       "unique         155         71     20  \n",
       "top     18/08/2023  Sao Paulo     SP  \n",
       "freq            21        215    288  "
      ]
     },
     "execution_count": 6,
     "metadata": {},
     "output_type": "execute_result"
    }
   ],
   "source": [
    "df.describe()"
   ]
  },
  {
   "cell_type": "code",
   "execution_count": 7,
   "metadata": {},
   "outputs": [],
   "source": [
    "# Apagando a coluna de data\n",
    "df.drop(columns=['data'], inplace=True)"
   ]
  },
  {
   "cell_type": "markdown",
   "metadata": {},
   "source": [
    "### Distribuição de Vagas por Estado\n",
    "Ao analisar os 10 estados com o maior número de vagas, constatamos que a região Sudeste domina as ofertas de emprego, com São Paulo liderando, seguido por Rio de Janeiro e Minas Gerais."
   ]
  },
  {
   "cell_type": "code",
   "execution_count": 8,
   "metadata": {
    "scrolled": true
   },
   "outputs": [
    {
     "data": {
      "image/png": "[encoded data removed]",
      "text/plain": [
       "<Figure size 432x288 with 1 Axes>"
      ]
     },
     "metadata": {
      "needs_background": "light"
     },
     "output_type": "display_data"
    }
   ],
   "source": [
    "# Mostrando os 10 estados com mais vagas abertas na gupy\n",
    "df['estado'].value_counts().head(10).sort_values(ascending=True).plot(kind='barh')\n",
    "plt.xlabel('Quantidade')\n",
    "plt.ylabel('Estado')\n",
    "plt.title('Top 10 Estados com mais vagas na gupy')\n",
    "plt.savefig('graficos/Top10EstadosVagas.png', facecolor='white')\n",
    "plt.show()"
   ]
  },
  {
   "cell_type": "markdown",
   "metadata": {},
   "source": [
    "### Tipos de Contratos Mais Comuns\n",
    "Em uma base de 587 vagas, notamos que mais de 400 delas são para cargos efetivos, isso sinaliza uma alta demanda por profissionais qualificados e de longo prazo. Além disso, identificamos um grande número de vagas com contratos de Banco de Talentos e Estágio, indicando que as empresas estão investindo em novos talentos e em formar equipes diversificadas."
   ]
  },
  {
   "cell_type": "code",
   "execution_count": 9,
   "metadata": {},
   "outputs": [
    {
     "data": {
      "image/png": "[encoded data removed]",
      "text/plain": [
       "<Figure size 1008x648 with 1 Axes>"
      ]
     },
     "metadata": {
      "needs_background": "light"
     },
     "output_type": "display_data"
    }
   ],
   "source": [
    "# Tipos de Contratos\n",
    "plt.figure(figsize=(14, 9)) \n",
    "df['contrato'].value_counts().plot(kind='bar')\n",
    "plt.xlabel('Tipo de Contrato')\n",
    "plt.xticks(rotation=45, ha='right')\n",
    "plt.ylabel('Quantidade')\n",
    "plt.title('Vagas por Tipo de Contrato')\n",
    "plt.savefig('graficos/VagasTipoContrato.png', facecolor='white')\n",
    "plt.show()"
   ]
  },
  {
   "cell_type": "markdown",
   "metadata": {},
   "source": [
    "### Vagas para Pessoas com Deficiência (PcD)\n",
    "Do total de vagas analisadas, 77,3% são direcionadas a pessoas com deficiência. É importante mencionar que os 22,7% restantes têm dados não informados, o que pode indicar uma oportunidade para melhorar a coleta de informações nessa área."
   ]
  },
  {
   "cell_type": "code",
   "execution_count": 10,
   "metadata": {
    "scrolled": true
   },
   "outputs": [
    {
     "data": {
      "image/png": "[encoded data removed]",
      "text/plain": [
       "<Figure size 432x288 with 1 Axes>"
      ]
     },
     "metadata": {},
     "output_type": "display_data"
    }
   ],
   "source": [
    "# Vagas com acessibilidade\n",
    "df['pcd'].value_counts().plot(kind='pie', autopct='%1.1f%%')\n",
    "plt.title('Percentual de Vagas para PcD')\n",
    "plt.ylabel('')\n",
    "plt.savefig('graficos/PercentualdeVagasparaPcD.png', facecolor='white')\n",
    "plt.show() "
   ]
  },
  {
   "cell_type": "markdown",
   "metadata": {},
   "source": [
    "Entre as vagas remotas, 82% também oferecem oportunidades para PcD, demonstrando um esforço para deixar mais acessiviel."
   ]
  },
  {
   "cell_type": "code",
   "execution_count": 11,
   "metadata": {},
   "outputs": [
    {
     "data": {
      "image/png": "[encoded data removed]",
      "text/plain": [
       "<Figure size 432x288 with 1 Axes>"
      ]
     },
     "metadata": {},
     "output_type": "display_data"
    }
   ],
   "source": [
    "# Criando Data Frame somente com vagas remotas\n",
    "df_remoto = df[df['modalidade'] == 'Remoto']\n",
    "\n",
    "# Mostrando das vagas home office quantas aceitam PcD \n",
    "df_remoto['pcd'].value_counts().plot(kind='pie', autopct='%1.1f%%')\n",
    "plt.title('Perncentual de Vagas Remota para PcD')\n",
    "plt.ylabel('')\n",
    "plt.savefig('graficos/PerncentualdeVagasRemotaparaPcD.png', facecolor='white')\n",
    "plt.show() "
   ]
  },
  {
   "cell_type": "markdown",
   "metadata": {},
   "source": [
    "### Modalidade de Trabalho\n",
    "Com relação à modalidade de trabalho, 67,8% das vagas são presenciais e 32,2% são remotas. Essa distribuição revela a preferência das empresas por terem colaboradores que possam estar presentes fisicamente em seus locais de trabalho."
   ]
  },
  {
   "cell_type": "code",
   "execution_count": 12,
   "metadata": {
    "scrolled": true
   },
   "outputs": [
    {
     "data": {
      "image/png": "[encoded data removed]",
      "text/plain": [
       "<Figure size 432x288 with 1 Axes>"
      ]
     },
     "metadata": {},
     "output_type": "display_data"
    }
   ],
   "source": [
    "df['modalidade'].value_counts().plot(kind='pie', autopct='%1.2f%%')\n",
    "plt.title('Distribuição por Modalidade')\n",
    "plt.ylabel('')\n",
    "plt.savefig('graficos/DistribuicaoporModalidade.png', facecolor='white')\n",
    "plt.show()"
   ]
  },
  {
   "cell_type": "markdown",
   "metadata": {},
   "source": [
    "### Top 10 Empresas com Mais Oportunidades\n",
    "Ao analisar as empresas com mais vagas, o Itaú lidera, seguido por NAVA e Stefanini. Essas empresas demonstram um compromisso contínuo em oferecer oportunidades na área de dados."
   ]
  },
  {
   "cell_type": "code",
   "execution_count": 13,
   "metadata": {},
   "outputs": [
    {
     "data": {
      "image/png": "[encoded data removed]",
      "text/plain": [
       "<Figure size 1368x432 with 1 Axes>"
      ]
     },
     "metadata": {
      "needs_background": "light"
     },
     "output_type": "display_data"
    }
   ],
   "source": [
    "# top 10 empresas com mais oportunidades abertas\n",
    "plt.figure(figsize=(19, 6))\n",
    "df['empresa'].value_counts().head(10).sort_values(ascending=True).plot(kind='barh')\n",
    "plt.xlabel('Quantidade')\n",
    "plt.ylabel('')\n",
    "plt.title('Top 10 empresas com mais vagas')\n",
    "plt.savefig('graficos/Top10Empresas.png', facecolor='white')\n",
    "plt.show()"
   ]
  },
  {
   "cell_type": "markdown",
   "metadata": {},
   "source": [
    "### Top 10 Cidades com Mais Vagas Presenciais\n",
    "São Paulo e Rio de Janeiro surgem como as principais cidades com vagas presenciais, refletindo o cenário econômico e populacional dessas regiões. Observamos que há uma porção significativa de dados não informados, sugerindo a importância de melhorias no preenchimento de informações por parte das empresas e/ou plataforma."
   ]
  },
  {
   "cell_type": "code",
   "execution_count": 14,
   "metadata": {},
   "outputs": [
    {
     "data": {
      "image/png": "[encoded data removed]",
      "text/plain": [
       "<Figure size 720x360 with 1 Axes>"
      ]
     },
     "metadata": {
      "needs_background": "light"
     },
     "output_type": "display_data"
    }
   ],
   "source": [
    "# Criando Data Frame somente com vagas presenciais\n",
    "df_presencial = df[df['modalidade'] == 'Presencial']\n",
    "\n",
    "# Top 10 cidades que vagas são presencias\n",
    "plt.figure(figsize=(10, 5)) \n",
    "df_presencial['cidade'].value_counts().head(10).sort_values(ascending=True).plot(kind='barh')\n",
    "plt.xlabel('Quantidade')\n",
    "plt.ylabel('')\n",
    "plt.title('Top 10 cidades com vagas presencias')\n",
    "plt.savefig('graficos/Top10Cidades.png', facecolor='white')\n",
    "plt.show()"
   ]
  }
 ],
 "metadata": {
  "kernelspec": {
   "display_name": "Python 3",
   "language": "python",
   "name": "python3"
  },
  "language_info": {
   "codemirror_mode": {
    "name": "ipython",
    "version": 3
   },
   "file_extension": ".py",
   "mimetype": "text/x-python",
   "name": "python",
   "nbconvert_exporter": "python",
   "pygments_lexer": "ipython3",
   "version": "3.8.5"
  }
 },
 "nbformat": 4,
 "nbformat_minor": 4
}
